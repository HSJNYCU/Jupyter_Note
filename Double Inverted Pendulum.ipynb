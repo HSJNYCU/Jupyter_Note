{
 "cells": [
  {
   "cell_type": "markdown",
   "metadata": {},
   "source": [
    "二軸倒單擺計算(參考Acrobot)\n",
    "\n",
    "以下為Acrobot的動態方程式\n",
    "$$\\begin{align*}\n",
    "    &\\begin{bmatrix}\n",
    "    m_1 l_{c1}^2 + m_2(l_1^2 + l_{c2}^2 + 2 l_1 l_{c2} C_{q2}) + I_1 +I_2\n",
    "    &&\n",
    "    m_2(l_{c2}^2 + l_1 l_{c2} C_{q2} + I_2)\n",
    "    \\\\\n",
    "    m_2(l_{c2}^2 + l_1 l_{c2} C_{q2}) + I_2\n",
    "    &&\n",
    "    m_2 l_{c2}^2 + I_2\n",
    "    \\end{bmatrix}\n",
    "    \\begin{bmatrix}\n",
    "    \\ddot{q_1} \\\\\n",
    "    \\ddot{q_2}\n",
    "    \\end{bmatrix}\n",
    "    \\\\\n",
    "    +\n",
    "    &\\begin{bmatrix}\n",
    "    -m_2 l_1 l_{c2} S_{q2} \\dot{q}_2^2 - 2m_1 l_1 l_{c2} S_{q2} \\dot{q}_1 \\dot{q}_2\n",
    "    \\\\\n",
    "    m_2 l_1 l_{c2} S_{q2} \\dot{q}_1^2\n",
    "    \\end{bmatrix}\n",
    "    +\n",
    "    \\begin{bmatrix}\n",
    "    (m_1 l_{c1} + m_2 l_1) g C_{q1} + m_2 l_{c2} g C_{q_1 + q_2}\n",
    "    \\\\\n",
    "    m_2 l_{c2} g C_{q_1 + q_2}\n",
    "    \\end{bmatrix}\n",
    "    =\n",
    "    \\begin{bmatrix}\n",
    "    \\tau_1 \\\\\n",
    "    \\tau_2\n",
    "    \\end{bmatrix}\n",
    "\\end{align*}$$"
   ]
  },
  {
   "cell_type": "code",
   "execution_count": 1,
   "metadata": {},
   "outputs": [],
   "source": [
    "from sympy import *\n",
    "from sympy.physics.mechanics import *"
   ]
  },
  {
   "cell_type": "code",
   "execution_count": 2,
   "metadata": {},
   "outputs": [],
   "source": [
    "q1, q2 = dynamicsymbols('q1 q2')\n",
    "m1, m2, l1, l2, lc1, lc2, I1, I2, t, g = symbols('m1 m2 l1 l2 l_c1 l_c2 I1 I2 t g')\n",
    "dq1 = diff(q1, t)\n",
    "dq2 = diff(q2, t)\n",
    "ddq1 = diff(dq1, t)\n",
    "ddq2 = diff(dq2, t)"
   ]
  },
  {
   "cell_type": "markdown",
   "metadata": {},
   "source": [
    "Displace Vector $$\\begin{align*}\n",
    "    \\vec{r}_1=\n",
    "    \\begin{bmatrix}\n",
    "    l_{c1} C_{q1} \\\\\n",
    "    l_{c1} S_{q1}\n",
    "    \\end{bmatrix}\n",
    "    ,~~~\n",
    "    \\vec{r}_2=\n",
    "    \\begin{bmatrix}\n",
    "    l_{1} C_{q1} + l_{c2} C_{q1+q2}\\\\\n",
    "    l_{1} S_{q1} + l_{c2} S_{q1+q2}\n",
    "    \\end{bmatrix}\n",
    "\\end{align*}$$"
   ]
  },
  {
   "cell_type": "code",
   "execution_count": 3,
   "metadata": {},
   "outputs": [],
   "source": [
    "r1 = Matrix([[lc1*cos(q1)], [lc1*sin(q1)]])\n",
    "r2 = Matrix([[l1*cos(q1) + lc2*cos(q1+q2)], [l1*sin(q1) + lc2*sin(q1+q2)]])"
   ]
  },
  {
   "cell_type": "markdown",
   "metadata": {},
   "source": [
    "Velocity Vectors\n",
    "\n",
    "$$\\begin{align*}\n",
    "    &\\vec{v}_1 = \\frac{d}{dt}\\vec{r}_1\n",
    "    =\n",
    "    \\begin{bmatrix}\n",
    "    -l_{c1} S_{q1} \\dot{q}_1 \\\\\n",
    "     l_{c1} C_{q1} \\dot{q}_1\n",
    "    \\end{bmatrix}\n",
    "    \\\\\n",
    "    &\\vec{v}_2 = \\frac{d}{dt}\\vec{r}_2\n",
    "    =\n",
    "    \\begin{bmatrix}\n",
    "    -l_{1} S_{q1} \\dot{q}_1 - l_{c2} S_{q1+q2} \n",
    "    (\\dot{q}_1 + \\dot{q}_2)\\\\\n",
    "     l_{1} C_{q1} \\dot{q}_1 + l_{c2} C_{q1+q2}\n",
    "    (\\dot{q}_1 + \\dot{q}_2)\n",
    "    \\end{bmatrix}\n",
    "\\end{align*}$$"
   ]
  },
  {
   "cell_type": "code",
   "execution_count": 4,
   "metadata": {},
   "outputs": [],
   "source": [
    "v1 = diff(r1, t)\n",
    "v2 = diff(r2, t)\n",
    "w1 = dq1\n",
    "w2 = dq1 + dq2"
   ]
  },
  {
   "cell_type": "markdown",
   "metadata": {},
   "source": [
    "Kinetic Energy\n",
    "$$\\begin{align*}\n",
    "    K_e = \\frac{1}{2} m_1 \\vec{v}_1^T \\vec{v}_1\n",
    "    + \\frac{1}{2} m_2 \\vec{v}_2^T \\vec{v}_2\n",
    "    + \\frac{1}{2} I_1 \\vec{\\omega}_1^T \\vec{\\omega}_1\n",
    "    + \\frac{1}{2} I_2 \\vec{\\omega}_2^T \\vec{\\omega}_2\n",
    "\\end{align*}$$\n",
    "在Sympy中，要讓矩陣平方變成常數要用.dot，可以試著跑以下兩個例子來看差異<br>\n",
    "<code>m1*v1.T.dot(v1)</code><br>\n",
    "<code>m1*v1.T*v1</code>"
   ]
  },
  {
   "cell_type": "code",
   "execution_count": 5,
   "metadata": {},
   "outputs": [],
   "source": [
    "Ke = simplify( m1*v1.T.dot(v1) + m2*v2.T.dot(v2) + I1*w1**2 + I2*w2**2  )/2"
   ]
  },
  {
   "cell_type": "markdown",
   "metadata": {},
   "source": [
    "整理一下可得到\n",
    "\\begin{align*}\n",
    "    K_e = \n",
    "    \\frac{1}{2}m_1 l_{c1}^2 \\dot{q}_1^2\n",
    "    +\n",
    "    \\frac{1}{2}m_2[l_{1}^2 \\dot{q}_1^2 + l_{c2}^2 (\\dot{q}_1 + \\dot{q}_2)^2] + m_2 l_{1} l_{c2} C_{q2}  (\\dot{q}_1^2 + \\dot{q}_1\\dot{q}_2)\n",
    "    +\n",
    "    \\frac{1}{2} I_1 \\dot{q}_1^2\n",
    "    +\n",
    "    \\frac{1}{2} I_2 (\\dot{q}_1+\\dot{q}_2)^2\n",
    "\\end{align*}"
   ]
  },
  {
   "cell_type": "markdown",
   "metadata": {},
   "source": [
    "計算位能\n",
    "$$\\begin{align*}\n",
    "    P_e = m_1 g l_{c1} S_{q1} + \n",
    "    m_2 g ( l_1 S_{q1} + l_{c2} S_{q_1+q_2} )\n",
    "\\end{align*}$$"
   ]
  },
  {
   "cell_type": "code",
   "execution_count": 6,
   "metadata": {},
   "outputs": [],
   "source": [
    "Pe = m1*g*lc1*sin(q1) + m2*g*(l1*sin(q1) + lc2*sin(q1+q2))"
   ]
  },
  {
   "cell_type": "markdown",
   "metadata": {},
   "source": [
    "計算Lagrangian $$\\mathcal{L}=K_e - P_e$$"
   ]
  },
  {
   "cell_type": "code",
   "execution_count": 7,
   "metadata": {},
   "outputs": [],
   "source": [
    "L = Ke - Pe"
   ]
  },
  {
   "cell_type": "markdown",
   "metadata": {},
   "source": [
    "計算EOM\n",
    "$$\\frac{d}{dt} \\frac{\\partial \\mathcal{L}}{\\partial \\dot{q}}-\\frac{\\partial \\mathcal{L}}{\\partial q}=0$$\n",
    "for no control input"
   ]
  },
  {
   "cell_type": "code",
   "execution_count": 8,
   "metadata": {},
   "outputs": [],
   "source": [
    "eqq1 = simplify(diff( diff(L, dq1), t ) - diff(L, q1) )\n",
    "eqq2 = simplify(diff( diff(L, dq2), t ) - diff(L, q2) )"
   ]
  },
  {
   "cell_type": "code",
   "execution_count": 9,
   "metadata": {},
   "outputs": [],
   "source": [
    "M_11 = simplify( diff(eqq1, ddq1) )\n",
    "M_12 = simplify( diff(eqq1, ddq2) )\n",
    "M_21 = simplify( diff(eqq2, ddq1) )\n",
    "M_22 = simplify( diff(eqq2, ddq2) )\n",
    "MassMatrix = Matrix([[M_11, M_12], [M_21, M_22]])"
   ]
  },
  {
   "cell_type": "code",
   "execution_count": 10,
   "metadata": {},
   "outputs": [
    {
     "data": {
      "text/latex": [
       "$\\displaystyle \\left[\\begin{matrix}I_{1} + I_{2} + l_{c1}^{2} m_{1} + m_{2} \\left(l_{1}^{2} + 2 l_{1} l_{c2} \\cos{\\left(\\operatorname{q_{2}}{\\left(t \\right)} \\right)} + l_{c2}^{2}\\right) & I_{2} + l_{c2} m_{2} \\left(l_{1} \\cos{\\left(\\operatorname{q_{2}}{\\left(t \\right)} \\right)} + l_{c2}\\right)\\\\I_{2} + l_{1} l_{c2} m_{2} \\cos{\\left(\\operatorname{q_{2}}{\\left(t \\right)} \\right)} + l_{c2}^{2} m_{2} & I_{2} + l_{c2}^{2} m_{2}\\end{matrix}\\right]$"
      ],
      "text/plain": [
       "Matrix([\n",
       "[I1 + I2 + l_c1**2*m1 + m2*(l1**2 + 2*l1*l_c2*cos(q2(t)) + l_c2**2), I2 + l_c2*m2*(l1*cos(q2(t)) + l_c2)],\n",
       "[                           I2 + l1*l_c2*m2*cos(q2(t)) + l_c2**2*m2,                     I2 + l_c2**2*m2]])"
      ]
     },
     "execution_count": 10,
     "metadata": {},
     "output_type": "execute_result"
    }
   ],
   "source": [
    "MassMatrix"
   ]
  },
  {
   "cell_type": "markdown",
   "metadata": {},
   "source": [
    "剩下的部分"
   ]
  },
  {
   "cell_type": "code",
   "execution_count": 11,
   "metadata": {},
   "outputs": [
    {
     "data": {
      "text/latex": [
       "$\\displaystyle \\left[\\begin{matrix}g l_{1} m_{2} \\cos{\\left(\\operatorname{q_{1}}{\\left(t \\right)} \\right)} + g l_{c1} m_{1} \\cos{\\left(\\operatorname{q_{1}}{\\left(t \\right)} \\right)} + g l_{c2} m_{2} \\cos{\\left(\\operatorname{q_{1}}{\\left(t \\right)} + \\operatorname{q_{2}}{\\left(t \\right)} \\right)} - 2 l_{1} l_{c2} m_{2} \\sin{\\left(\\operatorname{q_{2}}{\\left(t \\right)} \\right)} \\frac{d}{d t} \\operatorname{q_{1}}{\\left(t \\right)} \\frac{d}{d t} \\operatorname{q_{2}}{\\left(t \\right)} - l_{1} l_{c2} m_{2} \\sin{\\left(\\operatorname{q_{2}}{\\left(t \\right)} \\right)} \\left(\\frac{d}{d t} \\operatorname{q_{2}}{\\left(t \\right)}\\right)^{2}\\\\l_{c2} m_{2} \\left(g \\cos{\\left(\\operatorname{q_{1}}{\\left(t \\right)} + \\operatorname{q_{2}}{\\left(t \\right)} \\right)} + l_{1} \\sin{\\left(\\operatorname{q_{2}}{\\left(t \\right)} \\right)} \\left(\\frac{d}{d t} \\operatorname{q_{1}}{\\left(t \\right)}\\right)^{2}\\right)\\end{matrix}\\right]$"
      ],
      "text/plain": [
       "Matrix([\n",
       "[g*l1*m2*cos(q1(t)) + g*l_c1*m1*cos(q1(t)) + g*l_c2*m2*cos(q1(t) + q2(t)) - 2*l1*l_c2*m2*sin(q2(t))*Derivative(q1(t), t)*Derivative(q2(t), t) - l1*l_c2*m2*sin(q2(t))*Derivative(q2(t), t)**2],\n",
       "[                                                                                                                      l_c2*m2*(g*cos(q1(t) + q2(t)) + l1*sin(q2(t))*Derivative(q1(t), t)**2)]])"
      ]
     },
     "execution_count": 11,
     "metadata": {},
     "output_type": "execute_result"
    }
   ],
   "source": [
    "Matrix([simplify(eqq1 - M_11*ddq1 - M_12*ddq2), simplify(eqq2 - M_21*ddq1 - M_22*ddq2)])"
   ]
  },
  {
   "cell_type": "markdown",
   "metadata": {},
   "source": [
    "\n",
    "回顧EOM\n",
    "$$\\begin{align*}\n",
    "    &\\begin{bmatrix}\n",
    "    m_1 l_{c1}^2 + m_2(l_1^2 + l_{c2}^2 + 2 l_1 l_{c2} C_{q2}) + I_1 +I_2\n",
    "    &&\n",
    "    m_2(l_{c2}^2 + l_1 l_{c2} C_{q2} + I_2)\n",
    "    \\\\\n",
    "    m_2(l_{c2}^2 + l_1 l_{c2} C_{q2}) + I_2\n",
    "    &&\n",
    "    m_2 l_{c2}^2 + I_2\n",
    "    \\end{bmatrix}\n",
    "    \\begin{bmatrix}\n",
    "    \\ddot{q_1} \\\\\n",
    "    \\ddot{q_2}\n",
    "    \\end{bmatrix}\n",
    "    \\\\\n",
    "    +\n",
    "    &\\begin{bmatrix}\n",
    "    -m_2 l_1 l_{c2} S_{q2} \\dot{q}_2^2 - 2m_1 l_1 l_{c2} S_{q2} \\dot{q}_1 \\dot{q}_2\n",
    "    \\\\\n",
    "    m_2 l_1 l_{c2} S_{q2} \\dot{q}_1^2\n",
    "    \\end{bmatrix}\n",
    "    +\n",
    "    \\begin{bmatrix}\n",
    "    (m_1 l_{c1} + m_2 l_1) g C_{q1} + m_2 l_{c2} g C_{q_1 + q_2}\n",
    "    \\\\\n",
    "    m_2 l_{c2} g C_{q_1 + q_2}\n",
    "    \\end{bmatrix}\n",
    "    =\n",
    "    \\begin{bmatrix}\n",
    "    \\tau_1 \\\\\n",
    "    \\tau_2\n",
    "    \\end{bmatrix}\n",
    "\\end{align*}$$\n",
    "比對結果相同"
   ]
  },
  {
   "cell_type": "code",
   "execution_count": 12,
   "metadata": {},
   "outputs": [],
   "source": [
    "lm = LagrangesMethod(L, [q1,q2])\n",
    "lm.form_lagranges_equations()\n",
    "RHS = lm.rhs()"
   ]
  },
  {
   "cell_type": "code",
   "execution_count": 13,
   "metadata": {},
   "outputs": [],
   "source": [
    "RHS_simp = simplify(RHS)"
   ]
  },
  {
   "cell_type": "code",
   "execution_count": 14,
   "metadata": {},
   "outputs": [
    {
     "data": {
      "text/latex": [
       "$\\displaystyle \\left[\\begin{matrix}I_{1} + I_{2} + l_{c1}^{2} m_{1} + \\frac{m_{2} \\left(2 l_{1}^{2} + 4 l_{1} l_{c2} \\cos{\\left(\\operatorname{q_{2}}{\\left(t \\right)} \\right)} + 2 l_{c2}^{2}\\right)}{2} & I_{2} + \\frac{m_{2} \\left(2 l_{1} l_{c2} \\cos{\\left(\\operatorname{q_{2}}{\\left(t \\right)} \\right)} + 2 l_{c2}^{2}\\right)}{2}\\\\I_{2} + \\frac{m_{2} \\left(2 l_{1} l_{c2} \\cos{\\left(\\operatorname{q_{2}}{\\left(t \\right)} \\right)} + 2 l_{c2}^{2}\\right)}{2} & I_{2} + l_{c2}^{2} m_{2}\\end{matrix}\\right]$"
      ],
      "text/plain": [
       "Matrix([\n",
       "[I1 + I2 + l_c1**2*m1 + m2*(2*l1**2 + 4*l1*l_c2*cos(q2(t)) + 2*l_c2**2)/2, I2 + m2*(2*l1*l_c2*cos(q2(t)) + 2*l_c2**2)/2],\n",
       "[                            I2 + m2*(2*l1*l_c2*cos(q2(t)) + 2*l_c2**2)/2,                              I2 + l_c2**2*m2]])"
      ]
     },
     "execution_count": 14,
     "metadata": {},
     "output_type": "execute_result"
    }
   ],
   "source": [
    "lm.mass_matrix"
   ]
  },
  {
   "cell_type": "code",
   "execution_count": 15,
   "metadata": {},
   "outputs": [
    {
     "data": {
      "text/plain": [
       "'[I1 + I2 + l_c1.^2.*m1 + m2.*(l1.^2 + 2*l1.*l_c2.*cos(q2s) + l_c2.^2) I2 + l_c2.*m2.*(l1.*cos(q2s) + l_c2); I2 + l_c2.*m2.*(l1.*cos(q2s) + l_c2) I2 + l_c2.^2.*m2]'"
      ]
     },
     "execution_count": 15,
     "metadata": {},
     "output_type": "execute_result"
    }
   ],
   "source": [
    "MM = simplify(lm.mass_matrix)\n",
    "q1s, q2s = symbols('q1s q2s')\n",
    "MM = MM.replace(q1,q1s)\n",
    "MM = MM.replace(q2,q2s)\n",
    "octave_code(MM)"
   ]
  },
  {
   "cell_type": "code",
   "execution_count": 16,
   "metadata": {},
   "outputs": [
    {
     "data": {
      "text/latex": [
       "$\\displaystyle \\left[\\begin{matrix}I_{1} + I_{2} + l_{c1}^{2} m_{1} + m_{2} \\left(l_{1}^{2} + 2 l_{1} l_{c2} \\cos{\\left(\\operatorname{q_{2}}{\\left(t \\right)} \\right)} + l_{c2}^{2}\\right) & I_{2} + l_{c2} m_{2} \\left(l_{1} \\cos{\\left(\\operatorname{q_{2}}{\\left(t \\right)} \\right)} + l_{c2}\\right)\\\\I_{2} + l_{c2} m_{2} \\left(l_{1} \\cos{\\left(\\operatorname{q_{2}}{\\left(t \\right)} \\right)} + l_{c2}\\right) & I_{2} + l_{c2}^{2} m_{2}\\end{matrix}\\right]$"
      ],
      "text/plain": [
       "Matrix([\n",
       "[I1 + I2 + l_c1**2*m1 + m2*(l1**2 + 2*l1*l_c2*cos(q2(t)) + l_c2**2), I2 + l_c2*m2*(l1*cos(q2(t)) + l_c2)],\n",
       "[                               I2 + l_c2*m2*(l1*cos(q2(t)) + l_c2),                     I2 + l_c2**2*m2]])"
      ]
     },
     "execution_count": 16,
     "metadata": {},
     "output_type": "execute_result"
    }
   ],
   "source": [
    "simplify(lm.mass_matrix)"
   ]
  },
  {
   "cell_type": "code",
   "execution_count": 17,
   "metadata": {},
   "outputs": [
    {
     "data": {
      "text/plain": [
       "'% Not supported in Octave:\\n% Derivative\\n% Derivative\\n% q1\\n% q2\\n(-I2.*g.*l1.*m2.*cos(q1(t)) - I2.*g.*l_c1.*m1.*cos(q1(t)) + I2.*l1.*l_c2.*m2.*sin(q2(t)).*Derivative(q1(t), t).^2 + 2*I2.*l1.*l_c2.*m2.*sin(q2(t)).*Derivative(q1(t), t).*Derivative(q2(t), t) + I2.*l1.*l_c2.*m2.*sin(q2(t)).*Derivative(q2(t), t).^2 + g.*l1.*l_c2.^2.*m2.^2.*cos(q1(t) + 2*q2(t))/2 - g.*l1.*l_c2.^2.*m2.^2.*cos(q1(t))/2 - g.*l_c1.*l_c2.^2.*m1.*m2.*cos(q1(t)) + l1.^2.*l_c2.^2.*m2.^2.*sin(2*q2(t)).*Derivative(q1(t), t).^2/2 + l1.*l_c2.^3.*m2.^2.*sin(q2(t)).*Derivative(q1(t), t).^2 + 2*l1.*l_c2.^3.*m2.^2.*sin(q2(t)).*Derivative(q1(t), t).*Derivative(q2(t), t) + l1.*l_c2.^3.*m2.^2.*sin(q2(t)).*Derivative(q2(t), t).^2)./(I1.*I2 + I1.*l_c2.^2.*m2 + I2.*l1.^2.*m2 + I2.*l_c1.^2.*m1 + l1.^2.*l_c2.^2.*m2.^2.*sin(q2(t)).^2 + l_c1.^2.*l_c2.^2.*m1.*m2)'"
      ]
     },
     "execution_count": 17,
     "metadata": {},
     "output_type": "execute_result"
    }
   ],
   "source": [
    "octave_code(RHS_simp[2,0])"
   ]
  },
  {
   "cell_type": "code",
   "execution_count": 1,
   "metadata": {},
   "outputs": [
    {
     "data": {
      "text/plain": [
       "array([[ 0,  1,  2,  3,  4],\n",
       "       [ 5,  6,  7,  8,  9],\n",
       "       [10, 11, 12, 13, 14]])"
      ]
     },
     "execution_count": 1,
     "metadata": {},
     "output_type": "execute_result"
    }
   ],
   "source": [
    "import numpy as np\n",
    "a = np.arange(15).reshape(3, 5)\n",
    "a"
   ]
  },
  {
   "cell_type": "code",
   "execution_count": null,
   "metadata": {},
   "outputs": [],
   "source": []
  }
 ],
 "metadata": {
  "kernelspec": {
   "display_name": "Python 3 (ipykernel)",
   "language": "python",
   "name": "python3"
  },
  "language_info": {
   "codemirror_mode": {
    "name": "ipython",
    "version": 3
   },
   "file_extension": ".py",
   "mimetype": "text/x-python",
   "name": "python",
   "nbconvert_exporter": "python",
   "pygments_lexer": "ipython3",
   "version": "3.9.12"
  }
 },
 "nbformat": 4,
 "nbformat_minor": 4
}
